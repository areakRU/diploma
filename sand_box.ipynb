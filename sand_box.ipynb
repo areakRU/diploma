{
 "cells": [
  {
   "cell_type": "code",
   "execution_count": 26,
   "metadata": {},
   "outputs": [],
   "source": [
    "import scipy.signal as signal\n",
    "import numpy as np\n",
    "import matplotlib.pyplot as plt\n",
    "\n",
    "data = np.loadtxt('PreparedData\\\\np_signals.txt')\n",
    "labels = np.loadtxt('PreparedData\\\\np_lables.txt')"
   ]
  },
  {
   "cell_type": "code",
   "execution_count": 50,
   "metadata": {},
   "outputs": [
    {
     "data": {
      "image/png": "[encoded data removed]",
      "text/plain": [
       "<Figure size 432x288 with 1 Axes>"
      ]
     },
     "metadata": {
      "needs_background": "light"
     },
     "output_type": "display_data"
    }
   ],
   "source": [
    "stft1, stft2, stft3 = signal.stft(data[505], 1000)\n",
    "plt.pcolormesh(stft2, stft1, abs(stft3), shading='auto')\n",
    "plt.show()"
   ]
  },
  {
   "cell_type": "code",
   "execution_count": 46,
   "metadata": {},
   "outputs": [
    {
     "name": "stdout",
     "output_type": "stream",
     "text": [
      "[[-8.87416236e+03+0.00000000e+00j -1.83160203e+04+0.00000000e+00j\n",
      "  -1.81663799e+04+0.00000000e+00j ... -1.75051831e+04+0.00000000e+00j\n",
      "  -1.72996990e+04+0.00000000e+00j -2.90892511e+03+0.00000000e+00j]\n",
      " [ 4.43100573e+03-5.62010202e+03j  9.16541347e+03-2.90508619e+02j\n",
      "   9.06135291e+03+3.92065874e+02j ...  8.78953328e+03-2.00785421e+02j\n",
      "   9.54604360e+03+6.16690157e+02j -3.61667630e+02+2.67359148e+03j]\n",
      " [-3.29051500e+01+3.69902263e+03j  6.98253571e+01+1.13375188e+02j\n",
      "  -9.88584593e+01-2.08826357e+02j ... -4.65132054e+01-2.71296420e+01j\n",
      "  -2.12718958e+02+5.60230402e+02j  2.10080852e+03+4.68306560e+02j]\n",
      " ...\n",
      " [-6.80293154e+01+1.64245613e+00j  7.09022512e-02-1.47327247e-01j\n",
      "   4.99656542e-01-7.34931149e-01j ... -2.75419224e-02-5.98219317e-01j\n",
      "  -1.56123829e+01-1.48661444e+01j -3.43998744e+01-3.28178123e+01j]\n",
      " [ 6.81338776e+01-7.61732487e-01j -1.93170582e-02+1.31818279e-02j\n",
      "  -1.26549467e-01+3.33533978e-01j ...  4.00340170e-03+3.46354600e-01j\n",
      "   7.96007194e+00-2.02890475e+01j -1.76623862e+01+4.41150144e+01j]\n",
      " [-6.82007180e+01+0.00000000e+00j -4.98247961e-02+0.00000000e+00j\n",
      "   1.54797817e-01+0.00000000e+00j ...  2.98691165e-03+0.00000000e+00j\n",
      "   2.18609452e+01+0.00000000e+00j  4.75162600e+01+0.00000000e+00j]]\n"
     ]
    }
   ],
   "source": [
    "print(stft3)"
   ]
  },
  {
   "cell_type": "code",
   "execution_count": 40,
   "metadata": {},
   "outputs": [
    {
     "data": {
      "text/plain": [
       "1.0"
      ]
     },
     "execution_count": 40,
     "metadata": {},
     "output_type": "execute_result"
    }
   ],
   "source": [
    "labels[500]"
   ]
  }
 ],
 "metadata": {
  "interpreter": {
   "hash": "9e8cb5be1f208b81f6fc3abcf6875ae548d3a0025e2ca7338ed2e88ff8817261"
  },
  "kernelspec": {
   "display_name": "Python 3.9.0 64-bit",
   "language": "python",
   "name": "python3"
  },
  "language_info": {
   "codemirror_mode": {
    "name": "ipython",
    "version": 3
   },
   "file_extension": ".py",
   "mimetype": "text/x-python",
   "name": "python",
   "nbconvert_exporter": "python",
   "pygments_lexer": "ipython3",
   "version": "3.9.0"
  },
  "orig_nbformat": 4
 },
 "nbformat": 4,
 "nbformat_minor": 2
}
